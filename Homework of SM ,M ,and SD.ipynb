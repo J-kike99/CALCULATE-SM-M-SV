{
 "cells": [
  {
   "cell_type": "markdown",
   "metadata": {},
   "source": [
    "## Calculate Sample Mean , Mode , And Standard Derivation."
   ]
  },
  {
   "cell_type": "code",
   "execution_count": 39,
   "metadata": {},
   "outputs": [
    {
     "name": "stdout",
     "output_type": "stream",
     "text": [
      "Chose the operation:\n",
      "1.-Sample mean\n",
      "2.-Mode\n",
      "3.-Standard Derivation\n",
      "3\n",
      "The Mode is: []\n",
      "You have chosen the Standard Derivation:\n",
      "Insert the data size7\n",
      "Give me a valor1\n",
      "Give me a valor2\n",
      "Give me a valor4\n",
      "Give me a valor5\n",
      "Give me a valor7\n",
      "Give me a valor7\n",
      "Give me a valor7\n",
      "The Standard Derivation is : 2.6457513110645907\n"
     ]
    }
   ],
   "source": [
    " import math\n",
    "print(\"Chose the operation:\")\n",
    "print(\"1.-Sample mean\")\n",
    "print(\"2.-Mode\")\n",
    "print(\"3.-Standard Derivation\")\n",
    "c=int(input())\n",
    "n=0\n",
    "d1=0\n",
    "d2=0\n",
    "i=1\n",
    "moda=[]\n",
    "if c==1:\n",
    "    sam=0\n",
    "    print(\"You have chosen Sample mean\")\n",
    "    n=int(input(\"Insert the data size :\"))\n",
    "    for i in range(0,n):\n",
    "        d1=int(input(\"Give me a valor {i.count}:\"))\n",
    "        sam+=d1/n\n",
    "    print(\"The sample mean is:\",sam())  \n",
    "elif c==2:\n",
    "        print(\"You have chosen the Mode\")\n",
    "        rep = 0\n",
    "        list=[]\n",
    "        n=int(input(\"Inser the data size: \"))   \n",
    "        for t in range(0,n):\n",
    "            n1=int(input(\"Give me a valor\"))\n",
    "            list=[n1]\n",
    "            apar = list.count(t)                                                             \n",
    "            if apar > rep:                                                       \n",
    "                rep = apar                                                       \n",
    "                                                                                         \n",
    "mode = []    \n",
    "for t in range(0,n):                                                                              \n",
    "    apar = list.count(t)                                                             \n",
    "    if apar == rep and t not in mode:                                   \n",
    "             mode.append(t)                                                                  \n",
    "                                                                                         \n",
    "print (\"The Mode is:\", mode) \n",
    "\n",
    "\n",
    "if c==3:\n",
    "        print(\"You have chosen the Standard Derivation:\")\n",
    "        n=int(input(\"Insert the data size\"))\n",
    "        for y in range(0,n):\n",
    "            sumx=0\n",
    "            sump=0\n",
    "            sq=0\n",
    "            x=int(input(\"Give me a valor\"))\n",
    "            sumx+=x\n",
    "            sump+=x/n\n",
    "            sd=(1/n)*((sumx*sump)**2)\n",
    "            sq= math.sqrt(sd)\n",
    "        print(\"The Standard Derivation is :\",sq)   "
   ]
  },
  {
   "cell_type": "code",
   "execution_count": null,
   "metadata": {},
   "outputs": [],
   "source": []
  }
 ],
 "metadata": {
  "kernelspec": {
   "display_name": "Python 3",
   "language": "python",
   "name": "python3"
  },
  "language_info": {
   "codemirror_mode": {
    "name": "ipython",
    "version": 3
   },
   "file_extension": ".py",
   "mimetype": "text/x-python",
   "name": "python",
   "nbconvert_exporter": "python",
   "pygments_lexer": "ipython3",
   "version": "3.7.4"
  }
 },
 "nbformat": 4,
 "nbformat_minor": 2
}
